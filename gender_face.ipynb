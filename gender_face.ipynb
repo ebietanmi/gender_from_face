{
 "cells": [
  {
   "cell_type": "code",
   "execution_count": 114,
   "metadata": {},
   "outputs": [],
   "source": [
    "from __future__ import print_function\n",
    "from keras.preprocessing.image import ImageDataGenerator\n",
    "from keras.models import Sequential\n",
    "from keras.layers import Flatten,Dense,Dropout,Activation,BatchNormalization,Conv2D,MaxPooling2D\n",
    "import os \n",
    "from keras.optimizers import RMSprop,SGD,Adam\n",
    "from keras.callbacks import ModelCheckpoint,EarlyStopping,ReduceLROnPlateau"
   ]
  },
  {
   "cell_type": "code",
   "execution_count": 116,
   "metadata": {},
   "outputs": [],
   "source": [
    "num_class = 2\n",
    "img_row,img_col = 150,150\n",
    "batch_size = 64"
   ]
  },
  {
   "cell_type": "code",
   "execution_count": 118,
   "metadata": {},
   "outputs": [],
   "source": [
    "train_data_dir = '../datasets/gender_faces/train'\n",
    "validation_data_dir = '../datasets/gender_faces/valid'"
   ]
  },
  {
   "cell_type": "code",
   "execution_count": 119,
   "metadata": {},
   "outputs": [],
   "source": [
    "train_datagen = ImageDataGenerator( \n",
    "    rescale= 1./255,\n",
    "    rotation_range=30,\n",
    "    shear_range= 0.3,\n",
    "    zoom_range= 0.4,\n",
    "    width_shift_range= 0.4,\n",
    "    height_shift_range= 0.4,\n",
    "    horizontal_flip= True,\n",
    "    fill_mode= 'nearest'\n",
    ")"
   ]
  },
  {
   "cell_type": "code",
   "execution_count": 120,
   "metadata": {},
   "outputs": [],
   "source": [
    "valid_datagen = ImageDataGenerator(rescale=1./255)"
   ]
  },
  {
   "cell_type": "code",
   "execution_count": 121,
   "metadata": {},
   "outputs": [
    {
     "name": "stdout",
     "output_type": "stream",
     "text": [
      "Found 1600 images belonging to 2 classes.\n"
     ]
    }
   ],
   "source": [
    "train_generator = train_datagen.flow_from_directory(\n",
    "    train_data_dir,\n",
    "    color_mode= 'grayscale',\n",
    "    target_size= (img_row,img_col),\n",
    "    batch_size= batch_size,\n",
    "    class_mode= 'categorical',\n",
    "    shuffle= True\n",
    ")"
   ]
  },
  {
   "cell_type": "code",
   "execution_count": 122,
   "metadata": {},
   "outputs": [
    {
     "name": "stdout",
     "output_type": "stream",
     "text": [
      "Found 340 images belonging to 2 classes.\n"
     ]
    }
   ],
   "source": [
    "validation_generator = train_datagen.flow_from_directory(\n",
    "    validation_data_dir,\n",
    "    color_mode= 'grayscale',\n",
    "    target_size= (img_row,img_col),\n",
    "    batch_size= batch_size,\n",
    "    class_mode= 'categorical',\n",
    "    shuffle= True\n",
    ")"
   ]
  },
  {
   "cell_type": "code",
   "execution_count": 123,
   "metadata": {},
   "outputs": [],
   "source": [
    "model = Sequential()"
   ]
  },
  {
   "cell_type": "code",
   "execution_count": 124,
   "metadata": {},
   "outputs": [],
   "source": [
    "model.add(\n",
    "    Conv2D(32,(3,3),\n",
    "    padding= 'same',kernel_initializer='he_normal',\n",
    "    input_shape = (img_row,img_col,1)))\n",
    "model.add(Activation('elu'))\n",
    "model.add(BatchNormalization())\n",
    "\n",
    "model.add(\n",
    "    Conv2D(32,(3,3),\n",
    "    padding= 'same',kernel_initializer='he_normal',\n",
    "    input_shape = (img_row,img_col,1)))\n",
    "model.add(Activation('elu'))\n",
    "model.add(BatchNormalization())\n",
    "\n",
    "model.add(MaxPooling2D(pool_size=(2,2)))\n",
    "model.add(Dropout(0.2))"
   ]
  },
  {
   "cell_type": "code",
   "execution_count": 125,
   "metadata": {},
   "outputs": [],
   "source": [
    "model.add(\n",
    "    Conv2D(64,(3,3),\n",
    "    padding= 'same',kernel_initializer='he_normal'))\n",
    "model.add(Activation('elu'))\n",
    "model.add(BatchNormalization())\n",
    "\n",
    "model.add(\n",
    "    Conv2D(64,(3,3),\n",
    "    padding= 'same',kernel_initializer='he_normal'))\n",
    "model.add(Activation('elu'))\n",
    "model.add(BatchNormalization())  \n",
    "\n",
    "model.add(MaxPooling2D(pool_size=(2,2)))\n",
    "model.add(Dropout(0.2))"
   ]
  },
  {
   "cell_type": "code",
   "execution_count": 126,
   "metadata": {},
   "outputs": [],
   "source": [
    "model.add(\n",
    "    Conv2D(128,(3,3),\n",
    "    padding= 'same',kernel_initializer='he_normal'))\n",
    "model.add(Activation('elu'))\n",
    "model.add(BatchNormalization())\n",
    "\n",
    "model.add(\n",
    "    Conv2D(128,(3,3),\n",
    "    padding= 'same',kernel_initializer='he_normal'))\n",
    "model.add(Activation('elu'))\n",
    "model.add(BatchNormalization())  \n",
    "\n",
    "model.add(MaxPooling2D(pool_size=(2,2)))\n",
    "model.add(Dropout(0.2))"
   ]
  },
  {
   "cell_type": "code",
   "execution_count": 127,
   "metadata": {},
   "outputs": [],
   "source": [
    "model.add(\n",
    "    Conv2D(256,(3,3),\n",
    "    padding= 'same',kernel_initializer='he_normal'))\n",
    "model.add(Activation('elu'))\n",
    "model.add(BatchNormalization())\n",
    "\n",
    "model.add(\n",
    "    Conv2D(256,(3,3),\n",
    "    padding= 'same',kernel_initializer='he_normal'))\n",
    "model.add(Activation('elu'))\n",
    "model.add(BatchNormalization())  \n",
    "\n",
    "model.add(MaxPooling2D(pool_size=(2,2)))\n",
    "model.add(Dropout(0.2))"
   ]
  },
  {
   "cell_type": "code",
   "execution_count": 128,
   "metadata": {},
   "outputs": [],
   "source": [
    "model.add(Flatten())\n",
    "model.add(Dense(64,kernel_initializer='he_normal'))\n",
    "model.add(Activation('elu'))\n",
    "model.add(BatchNormalization())\n",
    "model.add(Dropout(0.5))"
   ]
  },
  {
   "cell_type": "code",
   "execution_count": 129,
   "metadata": {},
   "outputs": [],
   "source": [
    "model.add(Dense(64,kernel_initializer='he_normal'))\n",
    "model.add(Activation('elu'))\n",
    "model.add(BatchNormalization())\n",
    "model.add(Dropout(0.5))"
   ]
  },
  {
   "cell_type": "code",
   "execution_count": 130,
   "metadata": {},
   "outputs": [],
   "source": [
    "model.add(Dense(num_class,kernel_initializer='he_normal'))\n",
    "model.add(Activation('softmax'))"
   ]
  },
  {
   "cell_type": "code",
   "execution_count": 131,
   "metadata": {},
   "outputs": [
    {
     "name": "stdout",
     "output_type": "stream",
     "text": [
      "Model: \"sequential_5\"\n",
      "_________________________________________________________________\n",
      "Layer (type)                 Output Shape              Param #   \n",
      "=================================================================\n",
      "conv2d_65 (Conv2D)           (None, 150, 150, 32)      320       \n",
      "_________________________________________________________________\n",
      "activation_59 (Activation)   (None, 150, 150, 32)      0         \n",
      "_________________________________________________________________\n",
      "batch_normalization_53 (Batc (None, 150, 150, 32)      128       \n",
      "_________________________________________________________________\n",
      "conv2d_66 (Conv2D)           (None, 150, 150, 32)      9248      \n",
      "_________________________________________________________________\n",
      "activation_60 (Activation)   (None, 150, 150, 32)      0         \n",
      "_________________________________________________________________\n",
      "batch_normalization_54 (Batc (None, 150, 150, 32)      128       \n",
      "_________________________________________________________________\n",
      "max_pooling2d_24 (MaxPooling (None, 75, 75, 32)        0         \n",
      "_________________________________________________________________\n",
      "dropout_22 (Dropout)         (None, 75, 75, 32)        0         \n",
      "_________________________________________________________________\n",
      "conv2d_67 (Conv2D)           (None, 75, 75, 64)        18496     \n",
      "_________________________________________________________________\n",
      "activation_61 (Activation)   (None, 75, 75, 64)        0         \n",
      "_________________________________________________________________\n",
      "batch_normalization_55 (Batc (None, 75, 75, 64)        256       \n",
      "_________________________________________________________________\n",
      "conv2d_68 (Conv2D)           (None, 75, 75, 64)        36928     \n",
      "_________________________________________________________________\n",
      "activation_62 (Activation)   (None, 75, 75, 64)        0         \n",
      "_________________________________________________________________\n",
      "batch_normalization_56 (Batc (None, 75, 75, 64)        256       \n",
      "_________________________________________________________________\n",
      "max_pooling2d_25 (MaxPooling (None, 37, 37, 64)        0         \n",
      "_________________________________________________________________\n",
      "dropout_23 (Dropout)         (None, 37, 37, 64)        0         \n",
      "_________________________________________________________________\n",
      "conv2d_69 (Conv2D)           (None, 37, 37, 128)       73856     \n",
      "_________________________________________________________________\n",
      "activation_63 (Activation)   (None, 37, 37, 128)       0         \n",
      "_________________________________________________________________\n",
      "batch_normalization_57 (Batc (None, 37, 37, 128)       512       \n",
      "_________________________________________________________________\n",
      "conv2d_70 (Conv2D)           (None, 37, 37, 128)       147584    \n",
      "_________________________________________________________________\n",
      "activation_64 (Activation)   (None, 37, 37, 128)       0         \n",
      "_________________________________________________________________\n",
      "batch_normalization_58 (Batc (None, 37, 37, 128)       512       \n",
      "_________________________________________________________________\n",
      "max_pooling2d_26 (MaxPooling (None, 18, 18, 128)       0         \n",
      "_________________________________________________________________\n",
      "dropout_24 (Dropout)         (None, 18, 18, 128)       0         \n",
      "_________________________________________________________________\n",
      "conv2d_71 (Conv2D)           (None, 18, 18, 256)       295168    \n",
      "_________________________________________________________________\n",
      "activation_65 (Activation)   (None, 18, 18, 256)       0         \n",
      "_________________________________________________________________\n",
      "batch_normalization_59 (Batc (None, 18, 18, 256)       1024      \n",
      "_________________________________________________________________\n",
      "conv2d_72 (Conv2D)           (None, 18, 18, 256)       590080    \n",
      "_________________________________________________________________\n",
      "activation_66 (Activation)   (None, 18, 18, 256)       0         \n",
      "_________________________________________________________________\n",
      "batch_normalization_60 (Batc (None, 18, 18, 256)       1024      \n",
      "_________________________________________________________________\n",
      "max_pooling2d_27 (MaxPooling (None, 9, 9, 256)         0         \n",
      "_________________________________________________________________\n",
      "dropout_25 (Dropout)         (None, 9, 9, 256)         0         \n",
      "_________________________________________________________________\n",
      "flatten_5 (Flatten)          (None, 20736)             0         \n",
      "_________________________________________________________________\n",
      "dense_6 (Dense)              (None, 64)                1327168   \n",
      "_________________________________________________________________\n",
      "activation_67 (Activation)   (None, 64)                0         \n",
      "_________________________________________________________________\n",
      "batch_normalization_61 (Batc (None, 64)                256       \n",
      "_________________________________________________________________\n",
      "dropout_26 (Dropout)         (None, 64)                0         \n",
      "_________________________________________________________________\n",
      "dense_7 (Dense)              (None, 64)                4160      \n",
      "_________________________________________________________________\n",
      "activation_68 (Activation)   (None, 64)                0         \n",
      "_________________________________________________________________\n",
      "batch_normalization_62 (Batc (None, 64)                256       \n",
      "_________________________________________________________________\n",
      "dropout_27 (Dropout)         (None, 64)                0         \n",
      "_________________________________________________________________\n",
      "dense_8 (Dense)              (None, 2)                 130       \n",
      "_________________________________________________________________\n",
      "activation_69 (Activation)   (None, 2)                 0         \n",
      "=================================================================\n",
      "Total params: 2,507,490\n",
      "Trainable params: 2,505,314\n",
      "Non-trainable params: 2,176\n",
      "_________________________________________________________________\n"
     ]
    }
   ],
   "source": [
    "model.summary()"
   ]
  },
  {
   "cell_type": "code",
   "execution_count": 132,
   "metadata": {},
   "outputs": [],
   "source": [
    "checkpoint = ModelCheckpoint(\n",
    "    'Gender_checker.h5',\n",
    "    monitor='val_loss',\n",
    "    mode = 'min',\n",
    "    save_best_only=True,\n",
    "    verbose = 1\n",
    ")"
   ]
  },
  {
   "cell_type": "code",
   "execution_count": 133,
   "metadata": {},
   "outputs": [],
   "source": [
    "earlystop = EarlyStopping( \n",
    "    monitor= 'val_loss',\n",
    "    min_delta= 0,\n",
    "    patience= 9,\n",
    "    verbose = 1,\n",
    "    restore_best_weights= True\n",
    ")"
   ]
  },
  {
   "cell_type": "code",
   "execution_count": 134,
   "metadata": {},
   "outputs": [],
   "source": [
    "reduce_lr = ReduceLROnPlateau( \n",
    "    monitor= 'val_loss',\n",
    "    min_delta= 0.0001,\n",
    "    patience= 3,\n",
    "    verbose = 1,\n",
    "    factor= 0.2\n",
    ")"
   ]
  },
  {
   "cell_type": "code",
   "execution_count": 135,
   "metadata": {},
   "outputs": [],
   "source": [
    "callbacks = [earlystop,checkpoint,reduce_lr]"
   ]
  },
  {
   "cell_type": "code",
   "execution_count": 136,
   "metadata": {},
   "outputs": [],
   "source": [
    "model.compile(\n",
    "            loss='categorical_crossentropy',\n",
    "            optimizer= Adam(lr=0.001),\n",
    "            metrics=['accuracy']\n",
    "             \n",
    "             )"
   ]
  },
  {
   "cell_type": "code",
   "execution_count": 137,
   "metadata": {},
   "outputs": [],
   "source": [
    "epochs = 30\n",
    "no_train_samples = 1600\n",
    "no_validation_samples = 340"
   ]
  },
  {
   "cell_type": "code",
   "execution_count": 138,
   "metadata": {},
   "outputs": [
    {
     "name": "stdout",
     "output_type": "stream",
     "text": [
      "Epoch 1/30\n",
      "25/25 [==============================] - 881s 35s/step - loss: 1.1356 - accuracy: 0.5537 - val_loss: 24.8169 - val_accuracy: 0.5031\n",
      "\n",
      "Epoch 00001: val_loss improved from inf to 24.81688, saving model to Gender_checker.h5\n",
      "Epoch 2/30\n",
      "25/25 [==============================] - 752s 30s/step - loss: 0.9283 - accuracy: 0.5894 - val_loss: 8.0022 - val_accuracy: 0.4964\n",
      "\n",
      "Epoch 00002: val_loss improved from 24.81688 to 8.00223, saving model to Gender_checker.h5\n",
      "Epoch 3/30\n",
      "25/25 [==============================] - 744s 30s/step - loss: 0.8712 - accuracy: 0.5962 - val_loss: 0.9612 - val_accuracy: 0.5290\n",
      "\n",
      "Epoch 00003: val_loss improved from 8.00223 to 0.96121, saving model to Gender_checker.h5\n",
      "Epoch 4/30\n",
      "25/25 [==============================] - 750s 30s/step - loss: 0.7819 - accuracy: 0.6050 - val_loss: 2.2288 - val_accuracy: 0.5072\n",
      "\n",
      "Epoch 00004: val_loss did not improve from 0.96121\n",
      "Epoch 5/30\n",
      "25/25 [==============================] - 749s 30s/step - loss: 0.7224 - accuracy: 0.6500 - val_loss: 0.8050 - val_accuracy: 0.5290\n",
      "\n",
      "Epoch 00005: val_loss improved from 0.96121 to 0.80500, saving model to Gender_checker.h5\n",
      "Epoch 6/30\n",
      "25/25 [==============================] - 9756s 390s/step - loss: 0.6894 - accuracy: 0.6656 - val_loss: 0.7599 - val_accuracy: 0.5616\n",
      "\n",
      "Epoch 00006: val_loss improved from 0.80500 to 0.75989, saving model to Gender_checker.h5\n",
      "Epoch 7/30\n",
      "25/25 [==============================] - 755s 30s/step - loss: 0.7020 - accuracy: 0.6669 - val_loss: 0.6255 - val_accuracy: 0.6000\n",
      "\n",
      "Epoch 00007: val_loss improved from 0.75989 to 0.62549, saving model to Gender_checker.h5\n",
      "Epoch 8/30\n",
      "25/25 [==============================] - 748s 30s/step - loss: 0.6418 - accuracy: 0.6831 - val_loss: 0.8404 - val_accuracy: 0.5399\n",
      "\n",
      "Epoch 00008: val_loss did not improve from 0.62549\n",
      "Epoch 9/30\n",
      "25/25 [==============================] - 746s 30s/step - loss: 0.6462 - accuracy: 0.6825 - val_loss: 0.6414 - val_accuracy: 0.6232\n",
      "\n",
      "Epoch 00009: val_loss did not improve from 0.62549\n",
      "Epoch 10/30\n",
      "25/25 [==============================] - 747s 30s/step - loss: 0.5707 - accuracy: 0.7125 - val_loss: 0.5405 - val_accuracy: 0.6667\n",
      "\n",
      "Epoch 00010: val_loss improved from 0.62549 to 0.54052, saving model to Gender_checker.h5\n",
      "Epoch 11/30\n",
      "25/25 [==============================] - 746s 30s/step - loss: 0.5682 - accuracy: 0.7300 - val_loss: 1.3643 - val_accuracy: 0.6159\n",
      "\n",
      "Epoch 00011: val_loss did not improve from 0.54052\n",
      "Epoch 12/30\n",
      "25/25 [==============================] - 746s 30s/step - loss: 0.5496 - accuracy: 0.7381 - val_loss: 1.1493 - val_accuracy: 0.5072\n",
      "\n",
      "Epoch 00012: val_loss did not improve from 0.54052\n",
      "Epoch 13/30\n",
      "25/25 [==============================] - 752s 30s/step - loss: 0.4882 - accuracy: 0.7825 - val_loss: 0.6717 - val_accuracy: 0.6062\n",
      "\n",
      "Epoch 00013: val_loss did not improve from 0.54052\n",
      "\n",
      "Epoch 00013: ReduceLROnPlateau reducing learning rate to 0.00020000000949949026.\n",
      "Epoch 14/30\n",
      "25/25 [==============================] - 747s 30s/step - loss: 0.4588 - accuracy: 0.7850 - val_loss: 0.5428 - val_accuracy: 0.7283\n",
      "\n",
      "Epoch 00014: val_loss did not improve from 0.54052\n",
      "Epoch 15/30\n",
      "25/25 [==============================] - 745s 30s/step - loss: 0.4459 - accuracy: 0.8000 - val_loss: 0.4812 - val_accuracy: 0.7391\n",
      "\n",
      "Epoch 00015: val_loss improved from 0.54052 to 0.48122, saving model to Gender_checker.h5\n",
      "Epoch 16/30\n",
      "25/25 [==============================] - 747s 30s/step - loss: 0.4396 - accuracy: 0.8019 - val_loss: 0.5259 - val_accuracy: 0.7065\n",
      "\n",
      "Epoch 00016: val_loss did not improve from 0.48122\n",
      "Epoch 17/30\n",
      "25/25 [==============================] - 746s 30s/step - loss: 0.4390 - accuracy: 0.7944 - val_loss: 0.6073 - val_accuracy: 0.7246\n",
      "\n",
      "Epoch 00017: val_loss did not improve from 0.48122\n",
      "Epoch 18/30\n",
      "25/25 [==============================] - 746s 30s/step - loss: 0.4055 - accuracy: 0.8213 - val_loss: 0.6073 - val_accuracy: 0.8007\n",
      "\n",
      "Epoch 00018: val_loss did not improve from 0.48122\n",
      "\n",
      "Epoch 00018: ReduceLROnPlateau reducing learning rate to 4.0000001899898055e-05.\n",
      "Epoch 19/30\n",
      "25/25 [==============================] - 756s 30s/step - loss: 0.4162 - accuracy: 0.8112 - val_loss: 0.4577 - val_accuracy: 0.7844\n",
      "\n",
      "Epoch 00019: val_loss improved from 0.48122 to 0.45765, saving model to Gender_checker.h5\n",
      "Epoch 20/30\n",
      "25/25 [==============================] - 746s 30s/step - loss: 0.4324 - accuracy: 0.7944 - val_loss: 0.3126 - val_accuracy: 0.7971\n",
      "\n",
      "Epoch 00020: val_loss improved from 0.45765 to 0.31259, saving model to Gender_checker.h5\n",
      "Epoch 21/30\n",
      "25/25 [==============================] - 749s 30s/step - loss: 0.3922 - accuracy: 0.8288 - val_loss: 0.3534 - val_accuracy: 0.7572\n",
      "\n",
      "Epoch 00021: val_loss did not improve from 0.31259\n",
      "Epoch 22/30\n",
      "25/25 [==============================] - 745s 30s/step - loss: 0.4037 - accuracy: 0.8206 - val_loss: 0.4251 - val_accuracy: 0.7754\n",
      "\n",
      "Epoch 00022: val_loss did not improve from 0.31259\n",
      "Epoch 23/30\n",
      "25/25 [==============================] - 746s 30s/step - loss: 0.4006 - accuracy: 0.8244 - val_loss: 0.4901 - val_accuracy: 0.7319\n",
      "\n",
      "Epoch 00023: val_loss did not improve from 0.31259\n",
      "\n",
      "Epoch 00023: ReduceLROnPlateau reducing learning rate to 8.000000525498762e-06.\n",
      "Epoch 24/30\n",
      "25/25 [==============================] - 744s 30s/step - loss: 0.3913 - accuracy: 0.8263 - val_loss: 0.2565 - val_accuracy: 0.7464\n",
      "\n",
      "Epoch 00024: val_loss improved from 0.31259 to 0.25649, saving model to Gender_checker.h5\n",
      "Epoch 25/30\n",
      "25/25 [==============================] - 752s 30s/step - loss: 0.4030 - accuracy: 0.8188 - val_loss: 0.6253 - val_accuracy: 0.7156\n",
      "\n",
      "Epoch 00025: val_loss did not improve from 0.25649\n",
      "Epoch 26/30\n",
      "25/25 [==============================] - 745s 30s/step - loss: 0.3775 - accuracy: 0.8450 - val_loss: 0.6414 - val_accuracy: 0.7572\n",
      "\n",
      "Epoch 00026: val_loss did not improve from 0.25649\n",
      "Epoch 27/30\n",
      "25/25 [==============================] - 744s 30s/step - loss: 0.4160 - accuracy: 0.8100 - val_loss: 0.7498 - val_accuracy: 0.6812\n",
      "\n",
      "Epoch 00027: val_loss did not improve from 0.25649\n",
      "\n",
      "Epoch 00027: ReduceLROnPlateau reducing learning rate to 1.6000001778593287e-06.\n",
      "Epoch 28/30\n",
      "25/25 [==============================] - 9682s 387s/step - loss: 0.3890 - accuracy: 0.8244 - val_loss: 0.6046 - val_accuracy: 0.7029\n",
      "\n",
      "Epoch 00028: val_loss did not improve from 0.25649\n",
      "Epoch 29/30\n",
      "25/25 [==============================] - 749s 30s/step - loss: 0.4020 - accuracy: 0.8281 - val_loss: 0.8003 - val_accuracy: 0.7174\n",
      "\n",
      "Epoch 00029: val_loss did not improve from 0.25649\n",
      "Epoch 30/30\n",
      "25/25 [==============================] - 750s 30s/step - loss: 0.4007 - accuracy: 0.8375 - val_loss: 0.7781 - val_accuracy: 0.7500\n",
      "\n",
      "Epoch 00030: val_loss did not improve from 0.25649\n",
      "\n",
      "Epoch 00030: ReduceLROnPlateau reducing learning rate to 3.200000264769187e-07.\n"
     ]
    }
   ],
   "source": [
    "history =model.fit_generator(\n",
    "        train_generator,\n",
    "        steps_per_epoch= no_train_samples//batch_size,\n",
    "        epochs = epochs,\n",
    "        callbacks= callbacks,\n",
    "        validation_data= validation_generator,\n",
    "        validation_steps= no_validation_samples//batch_size\n",
    ")"
   ]
  },
  {
   "cell_type": "code",
   "execution_count": null,
   "metadata": {},
   "outputs": [],
   "source": []
  },
  {
   "cell_type": "code",
   "execution_count": null,
   "metadata": {},
   "outputs": [],
   "source": [
    "    "
   ]
  }
 ],
 "metadata": {
  "kernelspec": {
   "display_name": "Python 3",
   "language": "python",
   "name": "python3"
  },
  "language_info": {
   "codemirror_mode": {
    "name": "ipython",
    "version": 3
   },
   "file_extension": ".py",
   "mimetype": "text/x-python",
   "name": "python",
   "nbconvert_exporter": "python",
   "pygments_lexer": "ipython3",
   "version": "3.7.7"
  }
 },
 "nbformat": 4,
 "nbformat_minor": 4
}
