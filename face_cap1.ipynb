{
 "cells": [
  {
   "cell_type": "code",
   "execution_count": 1,
   "metadata": {},
   "outputs": [
    {
     "name": "stderr",
     "output_type": "stream",
     "text": [
      "Using TensorFlow backend.\n"
     ]
    }
   ],
   "source": [
    "import os \n",
    "import cv2 \n",
    "import numpy as np\n",
    "from keras.models import load_model\n",
    "from keras.preprocessing.image import img_to_array\n",
    "import matplotlib.pyplot as plt"
   ]
  },
  {
   "cell_type": "code",
   "execution_count": 2,
   "metadata": {},
   "outputs": [],
   "source": [
    "model = load_model(\"Gender_checker.h5\")\n",
    "\n",
    "face_haar_cascade = cv2.CascadeClassifier('haarcascade_frontalface_default.xml')\n",
    "image= cv2.imread('Taiye.jpg')\n"
   ]
  },
  {
   "cell_type": "code",
   "execution_count": 3,
   "metadata": {},
   "outputs": [],
   "source": [
    "cap = cv2.VideoCapture(0)"
   ]
  },
  {
   "cell_type": "code",
   "execution_count": 4,
   "metadata": {},
   "outputs": [
    {
     "data": {
      "text/plain": [
       "<function destroyAllWindows>"
      ]
     },
     "execution_count": 4,
     "metadata": {},
     "output_type": "execute_result"
    }
   ],
   "source": [
    "while True:\n",
    "    ret,test_img = cap.read()\n",
    "    if not ret:\n",
    "        continue\n",
    "        \n",
    "    gray_img = cv2.cvtColor(test_img,cv2.COLOR_BGR2GRAY) \n",
    "    faces_detected = face_haar_cascade.detectMultiScale(gray_img,1.32,5)\n",
    "    \n",
    "    for (x,y,w,h) in faces_detected:\n",
    "        cv2.rectangle(test_img,(x,y),(x+w,y+h), color =(255,255,255), thickness = 1)\n",
    "        roi_gray = gray_img[y:y+h,x:x+w]\n",
    "        roi_gray = cv2.resize(roi_gray,(150,150),interpolation = cv2.INTER_AREA)\n",
    "        img_pixels = img_to_array(roi_gray)\n",
    "        img_pixels = np.expand_dims(img_pixels,axis = 0)\n",
    "        img_pixels/= 255\n",
    "        \n",
    "        predictions = model.predict(img_pixels)\n",
    "        \n",
    "        max_index = np.argmax(predictions[0])\n",
    "        emotions = ('man','woman')\n",
    "        predicted_emotion = emotions[max_index]\n",
    "        cv2.putText( test_img, predicted_emotion,(int(x), int(y)),cv2.FONT_HERSHEY_SIMPLEX,2,(255,0,0),1)\n",
    "        \n",
    "    resized_img = cv2.resize(test_img,(1000,700))\n",
    "    cv2.imshow('Gender Analysis', resized_img)\n",
    "    \n",
    "    if cv2.waitKey(10) == ord('q'):\n",
    "        break\n",
    "        \n",
    "cap.release()\n",
    "cv2.destroyAllWindows"
   ]
  }
 ],
 "metadata": {
  "kernelspec": {
   "display_name": "Python 3",
   "language": "python",
   "name": "python3"
  },
  "language_info": {
   "codemirror_mode": {
    "name": "ipython",
    "version": 3
   },
   "file_extension": ".py",
   "mimetype": "text/x-python",
   "name": "python",
   "nbconvert_exporter": "python",
   "pygments_lexer": "ipython3",
   "version": "3.7.7"
  }
 },
 "nbformat": 4,
 "nbformat_minor": 4
}
